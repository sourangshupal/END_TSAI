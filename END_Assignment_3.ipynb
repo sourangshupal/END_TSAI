{
  "nbformat": 4,
  "nbformat_minor": 0,
  "metadata": {
    "colab": {
      "name": "END_Assignment_3.ipynb",
      "provenance": [],
      "private_outputs": true,
      "collapsed_sections": [],
      "authorship_tag": "ABX9TyN1GD6D/Xt053kCkcfqPyQ9",
      "include_colab_link": true
    },
    "kernelspec": {
      "name": "python3",
      "display_name": "Python 3"
    }
  },
  "cells": [
    {
      "cell_type": "markdown",
      "metadata": {
        "id": "view-in-github",
        "colab_type": "text"
      },
      "source": [
        "<a href=\"https://colab.research.google.com/github/sourangshupal/END_TSAI/blob/main/END_Assignment_3.ipynb\" target=\"_parent\"><img src=\"https://colab.research.google.com/assets/colab-badge.svg\" alt=\"Open In Colab\"/></a>"
      ]
    },
    {
      "cell_type": "markdown",
      "metadata": {
        "id": "JXH2ifM34pq_"
      },
      "source": [
        "### Q1. Write a function using only list filter lambda that can tell whether a number is a Fibonacci number or not. You can use a pre-calculated list/dict to store fab numbers till 10000"
      ]
    },
    {
      "cell_type": "code",
      "metadata": {
        "id": "9rgJbM9w4-ds"
      },
      "source": [
        "fib = [0, 1]\n",
        "[fib.append(fib[n-1] + fib[n-2]) for n in range(2, 21)]\n",
        "print(fib)\n",
        "\n",
        "filter_fib = lambda l: list(filter(lambda x: x in fib, l))"
      ],
      "execution_count": null,
      "outputs": []
    },
    {
      "cell_type": "markdown",
      "metadata": {
        "id": "SlNdJjYF5Efb"
      },
      "source": [
        "### Q2. Using list comprehension (and zip/lambda/etc if required) write five different expressions that: PTS:100\n",
        "1. add 2 iterables a and b such that a is even and b is odd\n",
        "2. strips every vowel from a string provided (tsai>>t s)\n",
        "3. acts like a ReLU function for a 1D array\n",
        "4. acts like a sigmoid function for a 1D array\n",
        "5. takes a small character string and shifts all characters by 5 (handle boundary conditions) tsai>>yxfn"
      ]
    },
    {
      "cell_type": "code",
      "metadata": {
        "id": "mbkdZT35Snwq"
      },
      "source": [
        "#2.1 add 2 iterables a and b such that a is even and b is odd\n",
        "a = [1, 2, 3, 4]\n",
        "b = [4, 5, 6]\n",
        "\n",
        "sum_list = [a + b for a, b in zip(a,b)]\n",
        "\n",
        "print(sum_list)"
      ],
      "execution_count": null,
      "outputs": []
    },
    {
      "cell_type": "code",
      "metadata": {
        "id": "RySd7AfiSqbu"
      },
      "source": [
        "#2.2 strips every vowel from a string provided (tsai>>t s)\n",
        "def disemvowel(word):\n",
        "    words = list(word)\n",
        "    v = [\"a\", \"e\", \"i\", \"o\", \"u\",\"A\", \"E\", \"I\", \"O\", \"U\"]     #list of vowel \n",
        "    return \"\".join([i for i in words if i.lower() not in v])  #check if alphabet not in vowel list \n",
        "disemvowel(\"TSAI\")"
      ],
      "execution_count": null,
      "outputs": []
    },
    {
      "cell_type": "code",
      "metadata": {
        "id": "xa7pZ9WcUdWm"
      },
      "source": [
        "#2.3.acts like a ReLU function for a 1D array\n",
        "relu = lambda l: [x if x>0 else 0 for x in l]"
      ],
      "execution_count": null,
      "outputs": []
    },
    {
      "cell_type": "code",
      "metadata": {
        "id": "4l92W1x_YhFf"
      },
      "source": [
        "#2.4 acts like a sigmoid function for a 1D array\n",
        "sigmoid = lambda l: [(1 / (1 + math.exp(-x))) for x in l]"
      ],
      "execution_count": null,
      "outputs": []
    },
    {
      "cell_type": "markdown",
      "metadata": {
        "id": "ZhngdMUC5f0E"
      },
      "source": [
        "### Q3. A list comprehension expression that takes a ~200 word paragraph (write your own paragraph to check), and checks whether it has any of the swear words mentioned in https://github.com/RobertJGabriel/Google-profanity-words/blob/master/list.txt PTS:200"
      ]
    },
    {
      "cell_type": "code",
      "metadata": {
        "id": "SOCN0OlCZFGc"
      },
      "source": [
        "import urllib\n",
        "\n",
        "# Reading text file using url and storing the swear words as a list\n",
        "link = \"https://raw.githubusercontent.com/RobertJGabriel/Google-profanity-words/master/list.txt\"\n",
        "file = urllib.request.urlopen(link)\n",
        "swear_words = [line.decode(\"utf-8\").strip(' ').split('\\n')[0] for line in file.readlines()]\n",
        "\n",
        "# From a paragraph of words, check is there is any swear word present. Returns True if present, else fale.\n",
        "with_swear_words = lambda para: any([True if word in swear_words else False for word in re.split('[ .\\n,!\\'\\\"]', para)])"
      ],
      "execution_count": null,
      "outputs": []
    },
    {
      "cell_type": "markdown",
      "metadata": {
        "id": "8-mE-KkB5jgB"
      },
      "source": [
        "### Q4. Using reduce functions: PTS:100\n",
        "1. add only even numbers in a list\n",
        "2. find the biggest character in a string (printable ascii characters)\n",
        "3. adds every 3rd number in a list"
      ]
    },
    {
      "cell_type": "code",
      "metadata": {
        "id": "51NGkYCgZy8l"
      },
      "source": [
        "#4.1 add only even numbers in a list\n",
        "add_even = lambda l: reduce(lambda a, b: a+b if b%2==0 else a, l, 0)"
      ],
      "execution_count": null,
      "outputs": []
    },
    {
      "cell_type": "code",
      "metadata": {
        "id": "aVk6H2pXaDES"
      },
      "source": [
        "#4.2 find the biggest character in a string (printable ascii characters)\n",
        "big_char = lambda st: reduce(lambda a, b: a if ord(a)>ord(b) else b, st)"
      ],
      "execution_count": null,
      "outputs": []
    },
    {
      "cell_type": "code",
      "metadata": {
        "id": "wB80maeXaCiq"
      },
      "source": [
        "#4.3 adds every 3rd number in a list\n",
        "add_third = lambda l: reduce(lambda a, b: a+b, l[2::3], 0)"
      ],
      "execution_count": null,
      "outputs": []
    },
    {
      "cell_type": "markdown",
      "metadata": {
        "id": "LxcMwB4v50I9"
      },
      "source": [
        "### Q5. Using randint, random.choice and list comprehensions, write an expression that generates 15 random KADDAADDDD number plates, where KA is fixed, D stands for a digit, and A stands for Capital alphabets. 10<<DD<<99 & 1000<<DDDD<<9999 PTS:100"
      ]
    },
    {
      "cell_type": "code",
      "metadata": {
        "id": "Iw80fSwkaX3U"
      },
      "source": [
        "randomPlates = lambda: [f\"KA{randint(10, 99)}{chr(randint(65, 90))}{chr(randint(65, 90))}{randint(1000, 9999)}\" for i in range(15)]"
      ],
      "execution_count": null,
      "outputs": []
    },
    {
      "cell_type": "markdown",
      "metadata": {
        "id": "tumc71pm55Qu"
      },
      "source": [
        "### Q6. Write the above again from scratch where KA can be changed to DL, and 1000/9999 ranges can be provided.  PTS:100"
      ]
    },
    {
      "cell_type": "code",
      "metadata": {
        "id": "dC3BiSGSa4zv"
      },
      "source": [
        "randomPlates = lambda st='KA', rng=(1000, 9999):  [f\"{st}{randint(10, 99)}{chr(randint(65, 90))}{chr(randint(65, 90))}{randint(rng[0], rng[1])}\" for i in range(15)]"
      ],
      "execution_count": null,
      "outputs": []
    }
  ]
}